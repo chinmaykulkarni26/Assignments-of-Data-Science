{
 "cells": [
  {
   "cell_type": "code",
   "execution_count": 39,
   "id": "e04f9eb0",
   "metadata": {},
   "outputs": [],
   "source": [
    "import pandas as pd\n",
    "import matplotlib.pyplot as plt\n",
    "import seaborn as sns\n",
    "import numpy as np\n",
    "import statsmodels.formula.api as smf"
   ]
  },
  {
   "cell_type": "code",
   "execution_count": 40,
   "id": "f72f993e",
   "metadata": {},
   "outputs": [
    {
     "data": {
      "text/html": [
       "<div>\n",
       "<style scoped>\n",
       "    .dataframe tbody tr th:only-of-type {\n",
       "        vertical-align: middle;\n",
       "    }\n",
       "\n",
       "    .dataframe tbody tr th {\n",
       "        vertical-align: top;\n",
       "    }\n",
       "\n",
       "    .dataframe thead th {\n",
       "        text-align: right;\n",
       "    }\n",
       "</style>\n",
       "<table border=\"1\" class=\"dataframe\">\n",
       "  <thead>\n",
       "    <tr style=\"text-align: right;\">\n",
       "      <th></th>\n",
       "      <th>Month</th>\n",
       "      <th>Passengers</th>\n",
       "    </tr>\n",
       "  </thead>\n",
       "  <tbody>\n",
       "    <tr>\n",
       "      <th>0</th>\n",
       "      <td>Jan-95</td>\n",
       "      <td>112</td>\n",
       "    </tr>\n",
       "    <tr>\n",
       "      <th>1</th>\n",
       "      <td>Feb-95</td>\n",
       "      <td>118</td>\n",
       "    </tr>\n",
       "    <tr>\n",
       "      <th>2</th>\n",
       "      <td>Mar-95</td>\n",
       "      <td>132</td>\n",
       "    </tr>\n",
       "    <tr>\n",
       "      <th>3</th>\n",
       "      <td>Apr-95</td>\n",
       "      <td>129</td>\n",
       "    </tr>\n",
       "    <tr>\n",
       "      <th>4</th>\n",
       "      <td>May-95</td>\n",
       "      <td>121</td>\n",
       "    </tr>\n",
       "    <tr>\n",
       "      <th>...</th>\n",
       "      <td>...</td>\n",
       "      <td>...</td>\n",
       "    </tr>\n",
       "    <tr>\n",
       "      <th>91</th>\n",
       "      <td>Aug-02</td>\n",
       "      <td>405</td>\n",
       "    </tr>\n",
       "    <tr>\n",
       "      <th>92</th>\n",
       "      <td>Sep-02</td>\n",
       "      <td>355</td>\n",
       "    </tr>\n",
       "    <tr>\n",
       "      <th>93</th>\n",
       "      <td>Oct-02</td>\n",
       "      <td>306</td>\n",
       "    </tr>\n",
       "    <tr>\n",
       "      <th>94</th>\n",
       "      <td>Nov-02</td>\n",
       "      <td>271</td>\n",
       "    </tr>\n",
       "    <tr>\n",
       "      <th>95</th>\n",
       "      <td>Dec-02</td>\n",
       "      <td>306</td>\n",
       "    </tr>\n",
       "  </tbody>\n",
       "</table>\n",
       "<p>96 rows × 2 columns</p>\n",
       "</div>"
      ],
      "text/plain": [
       "     Month  Passengers\n",
       "0   Jan-95         112\n",
       "1   Feb-95         118\n",
       "2   Mar-95         132\n",
       "3   Apr-95         129\n",
       "4   May-95         121\n",
       "..     ...         ...\n",
       "91  Aug-02         405\n",
       "92  Sep-02         355\n",
       "93  Oct-02         306\n",
       "94  Nov-02         271\n",
       "95  Dec-02         306\n",
       "\n",
       "[96 rows x 2 columns]"
      ]
     },
     "execution_count": 40,
     "metadata": {},
     "output_type": "execute_result"
    }
   ],
   "source": [
    "data=pd.read_csv(\"D:\\Excel R\\Assignments\\Assignment 18\\Airlines+Data.csv\")\n",
    "data"
   ]
  },
  {
   "cell_type": "code",
   "execution_count": 41,
   "id": "9faec68f",
   "metadata": {},
   "outputs": [
    {
     "name": "stdout",
     "output_type": "stream",
     "text": [
      "<class 'pandas.core.frame.DataFrame'>\n",
      "RangeIndex: 96 entries, 0 to 95\n",
      "Data columns (total 2 columns):\n",
      " #   Column      Non-Null Count  Dtype \n",
      "---  ------      --------------  ----- \n",
      " 0   Month       96 non-null     object\n",
      " 1   Passengers  96 non-null     int64 \n",
      "dtypes: int64(1), object(1)\n",
      "memory usage: 1.6+ KB\n"
     ]
    }
   ],
   "source": [
    "data.info()"
   ]
  },
  {
   "cell_type": "code",
   "execution_count": 42,
   "id": "b1ab4096",
   "metadata": {},
   "outputs": [
    {
     "data": {
      "text/plain": [
       "Month         0\n",
       "Passengers    0\n",
       "dtype: int64"
      ]
     },
     "execution_count": 42,
     "metadata": {},
     "output_type": "execute_result"
    }
   ],
   "source": [
    "data.isna().sum()"
   ]
  },
  {
   "cell_type": "code",
   "execution_count": 43,
   "id": "2ae59620",
   "metadata": {},
   "outputs": [],
   "source": [
    "### Converting the month column to Date-Time:-\n",
    "data['Date']=pd.to_datetime(data.Month,format='%b-%y')\n",
    "data['Month']=data.Date.dt.strftime('%b')    ### Month Extraction\n",
    "data['Year']=data.Date.dt.strftime('%Y')"
   ]
  },
  {
   "cell_type": "code",
   "execution_count": 44,
   "id": "1728e159",
   "metadata": {},
   "outputs": [
    {
     "data": {
      "text/plain": [
       "<AxesSubplot:xlabel='Month', ylabel='Year'>"
      ]
     },
     "execution_count": 44,
     "metadata": {},
     "output_type": "execute_result"
    },
    {
     "data": {
      "image/png": "[encoded data removed]",
      "text/plain": [
       "<Figure size 720x504 with 2 Axes>"
      ]
     },
     "metadata": {
      "needs_background": "light"
     },
     "output_type": "display_data"
    }
   ],
   "source": [
    "### Heatmap:-\n",
    "plt.figure(figsize=(10,7))\n",
    "heatmap=pd.pivot_table(data=data,values='Passengers',index='Year',columns='Month',aggfunc='mean',fill_value=0)\n",
    "sns.heatmap(heatmap,annot=True,fmt='g')"
   ]
  },
  {
   "cell_type": "code",
   "execution_count": 50,
   "id": "9319794b",
   "metadata": {},
   "outputs": [
    {
     "data": {
      "text/plain": [
       "<AxesSubplot:xlabel='Month', ylabel='Passengers'>"
      ]
     },
     "execution_count": 50,
     "metadata": {},
     "output_type": "execute_result"
    },
    {
     "data": {
      "image/png": "[encoded data removed]",
      "text/plain": [
       "<Figure size 1080x576 with 1 Axes>"
      ]
     },
     "metadata": {
      "needs_background": "light"
     },
     "output_type": "display_data"
    }
   ],
   "source": [
    "### Boxplot-1:-\n",
    "plt.figure(figsize=(15,8))\n",
    "sns.boxplot(x='Month',y='Passengers',data=data)"
   ]
  },
  {
   "cell_type": "code",
   "execution_count": 51,
   "id": "359cbf7e",
   "metadata": {},
   "outputs": [
    {
     "data": {
      "text/plain": [
       "<AxesSubplot:xlabel='Year', ylabel='Passengers'>"
      ]
     },
     "execution_count": 51,
     "metadata": {},
     "output_type": "execute_result"
    },
    {
     "data": {
      "image/png": "[encoded data removed]",
      "text/plain": [
       "<Figure size 1080x576 with 1 Axes>"
      ]
     },
     "metadata": {
      "needs_background": "light"
     },
     "output_type": "display_data"
    }
   ],
   "source": [
    "### Boxplot-2:-\n",
    "plt.figure(figsize=(15,8))\n",
    "sns.boxplot(x='Year',y='Passengers',data=data)"
   ]
  },
  {
   "cell_type": "code",
   "execution_count": 57,
   "id": "a61b2815",
   "metadata": {},
   "outputs": [
    {
     "data": {
      "text/plain": [
       "<AxesSubplot:xlabel='Year', ylabel='Passengers'>"
      ]
     },
     "execution_count": 57,
     "metadata": {},
     "output_type": "execute_result"
    },
    {
     "data": {
      "image/png": "[encoded data removed]",
      "text/plain": [
       "<Figure size 1080x216 with 1 Axes>"
      ]
     },
     "metadata": {
      "needs_background": "light"
     },
     "output_type": "display_data"
    }
   ],
   "source": [
    "### Lineplot:-\n",
    "plt.figure(figsize=(15,3))\n",
    "sns.lineplot(x='Year',y='Passengers',data=data)"
   ]
  },
  {
   "cell_type": "code",
   "execution_count": 58,
   "id": "f12e66a4",
   "metadata": {},
   "outputs": [
    {
     "data": {
      "text/html": [
       "<div>\n",
       "<style scoped>\n",
       "    .dataframe tbody tr th:only-of-type {\n",
       "        vertical-align: middle;\n",
       "    }\n",
       "\n",
       "    .dataframe tbody tr th {\n",
       "        vertical-align: top;\n",
       "    }\n",
       "\n",
       "    .dataframe thead th {\n",
       "        text-align: right;\n",
       "    }\n",
       "</style>\n",
       "<table border=\"1\" class=\"dataframe\">\n",
       "  <thead>\n",
       "    <tr style=\"text-align: right;\">\n",
       "      <th></th>\n",
       "      <th>Month</th>\n",
       "      <th>Passengers</th>\n",
       "      <th>Date</th>\n",
       "      <th>Year</th>\n",
       "      <th>t</th>\n",
       "      <th>t2</th>\n",
       "      <th>log_p</th>\n",
       "    </tr>\n",
       "  </thead>\n",
       "  <tbody>\n",
       "    <tr>\n",
       "      <th>0</th>\n",
       "      <td>Jan</td>\n",
       "      <td>112</td>\n",
       "      <td>1995-01-01</td>\n",
       "      <td>1995</td>\n",
       "      <td>1</td>\n",
       "      <td>1</td>\n",
       "      <td>4.718499</td>\n",
       "    </tr>\n",
       "    <tr>\n",
       "      <th>1</th>\n",
       "      <td>Feb</td>\n",
       "      <td>118</td>\n",
       "      <td>1995-02-01</td>\n",
       "      <td>1995</td>\n",
       "      <td>2</td>\n",
       "      <td>4</td>\n",
       "      <td>4.770685</td>\n",
       "    </tr>\n",
       "    <tr>\n",
       "      <th>2</th>\n",
       "      <td>Mar</td>\n",
       "      <td>132</td>\n",
       "      <td>1995-03-01</td>\n",
       "      <td>1995</td>\n",
       "      <td>3</td>\n",
       "      <td>9</td>\n",
       "      <td>4.882802</td>\n",
       "    </tr>\n",
       "    <tr>\n",
       "      <th>3</th>\n",
       "      <td>Apr</td>\n",
       "      <td>129</td>\n",
       "      <td>1995-04-01</td>\n",
       "      <td>1995</td>\n",
       "      <td>4</td>\n",
       "      <td>16</td>\n",
       "      <td>4.859812</td>\n",
       "    </tr>\n",
       "    <tr>\n",
       "      <th>4</th>\n",
       "      <td>May</td>\n",
       "      <td>121</td>\n",
       "      <td>1995-05-01</td>\n",
       "      <td>1995</td>\n",
       "      <td>5</td>\n",
       "      <td>25</td>\n",
       "      <td>4.795791</td>\n",
       "    </tr>\n",
       "    <tr>\n",
       "      <th>...</th>\n",
       "      <td>...</td>\n",
       "      <td>...</td>\n",
       "      <td>...</td>\n",
       "      <td>...</td>\n",
       "      <td>...</td>\n",
       "      <td>...</td>\n",
       "      <td>...</td>\n",
       "    </tr>\n",
       "    <tr>\n",
       "      <th>91</th>\n",
       "      <td>Aug</td>\n",
       "      <td>405</td>\n",
       "      <td>2002-08-01</td>\n",
       "      <td>2002</td>\n",
       "      <td>92</td>\n",
       "      <td>8464</td>\n",
       "      <td>6.003887</td>\n",
       "    </tr>\n",
       "    <tr>\n",
       "      <th>92</th>\n",
       "      <td>Sep</td>\n",
       "      <td>355</td>\n",
       "      <td>2002-09-01</td>\n",
       "      <td>2002</td>\n",
       "      <td>93</td>\n",
       "      <td>8649</td>\n",
       "      <td>5.872118</td>\n",
       "    </tr>\n",
       "    <tr>\n",
       "      <th>93</th>\n",
       "      <td>Oct</td>\n",
       "      <td>306</td>\n",
       "      <td>2002-10-01</td>\n",
       "      <td>2002</td>\n",
       "      <td>94</td>\n",
       "      <td>8836</td>\n",
       "      <td>5.723585</td>\n",
       "    </tr>\n",
       "    <tr>\n",
       "      <th>94</th>\n",
       "      <td>Nov</td>\n",
       "      <td>271</td>\n",
       "      <td>2002-11-01</td>\n",
       "      <td>2002</td>\n",
       "      <td>95</td>\n",
       "      <td>9025</td>\n",
       "      <td>5.602119</td>\n",
       "    </tr>\n",
       "    <tr>\n",
       "      <th>95</th>\n",
       "      <td>Dec</td>\n",
       "      <td>306</td>\n",
       "      <td>2002-12-01</td>\n",
       "      <td>2002</td>\n",
       "      <td>96</td>\n",
       "      <td>9216</td>\n",
       "      <td>5.723585</td>\n",
       "    </tr>\n",
       "  </tbody>\n",
       "</table>\n",
       "<p>96 rows × 7 columns</p>\n",
       "</div>"
      ],
      "text/plain": [
       "   Month  Passengers       Date  Year   t    t2     log_p\n",
       "0    Jan         112 1995-01-01  1995   1     1  4.718499\n",
       "1    Feb         118 1995-02-01  1995   2     4  4.770685\n",
       "2    Mar         132 1995-03-01  1995   3     9  4.882802\n",
       "3    Apr         129 1995-04-01  1995   4    16  4.859812\n",
       "4    May         121 1995-05-01  1995   5    25  4.795791\n",
       "..   ...         ...        ...   ...  ..   ...       ...\n",
       "91   Aug         405 2002-08-01  2002  92  8464  6.003887\n",
       "92   Sep         355 2002-09-01  2002  93  8649  5.872118\n",
       "93   Oct         306 2002-10-01  2002  94  8836  5.723585\n",
       "94   Nov         271 2002-11-01  2002  95  9025  5.602119\n",
       "95   Dec         306 2002-12-01  2002  96  9216  5.723585\n",
       "\n",
       "[96 rows x 7 columns]"
      ]
     },
     "execution_count": 58,
     "metadata": {},
     "output_type": "execute_result"
    }
   ],
   "source": [
    "data['t']=np.arange(1,97)\n",
    "data['t2']=np.square(data.t)\n",
    "data['log_p']=np.log(data.Passengers)\n",
    "data"
   ]
  },
  {
   "cell_type": "code",
   "execution_count": 59,
   "id": "2a0f1c39",
   "metadata": {},
   "outputs": [],
   "source": [
    "d1=pd.get_dummies(data.Month)"
   ]
  },
  {
   "cell_type": "code",
   "execution_count": 60,
   "id": "33223978",
   "metadata": {},
   "outputs": [
    {
     "data": {
      "text/html": [
       "<div>\n",
       "<style scoped>\n",
       "    .dataframe tbody tr th:only-of-type {\n",
       "        vertical-align: middle;\n",
       "    }\n",
       "\n",
       "    .dataframe tbody tr th {\n",
       "        vertical-align: top;\n",
       "    }\n",
       "\n",
       "    .dataframe thead th {\n",
       "        text-align: right;\n",
       "    }\n",
       "</style>\n",
       "<table border=\"1\" class=\"dataframe\">\n",
       "  <thead>\n",
       "    <tr style=\"text-align: right;\">\n",
       "      <th></th>\n",
       "      <th>Month</th>\n",
       "      <th>Passengers</th>\n",
       "      <th>Date</th>\n",
       "      <th>Year</th>\n",
       "      <th>t</th>\n",
       "      <th>t2</th>\n",
       "      <th>log_p</th>\n",
       "      <th>Apr</th>\n",
       "      <th>Aug</th>\n",
       "      <th>Dec</th>\n",
       "      <th>Feb</th>\n",
       "      <th>Jan</th>\n",
       "      <th>Jul</th>\n",
       "      <th>Jun</th>\n",
       "      <th>Mar</th>\n",
       "      <th>May</th>\n",
       "      <th>Nov</th>\n",
       "      <th>Oct</th>\n",
       "      <th>Sep</th>\n",
       "    </tr>\n",
       "  </thead>\n",
       "  <tbody>\n",
       "    <tr>\n",
       "      <th>0</th>\n",
       "      <td>Jan</td>\n",
       "      <td>112</td>\n",
       "      <td>1995-01-01</td>\n",
       "      <td>1995</td>\n",
       "      <td>1</td>\n",
       "      <td>1</td>\n",
       "      <td>4.718499</td>\n",
       "      <td>0</td>\n",
       "      <td>0</td>\n",
       "      <td>0</td>\n",
       "      <td>0</td>\n",
       "      <td>1</td>\n",
       "      <td>0</td>\n",
       "      <td>0</td>\n",
       "      <td>0</td>\n",
       "      <td>0</td>\n",
       "      <td>0</td>\n",
       "      <td>0</td>\n",
       "      <td>0</td>\n",
       "    </tr>\n",
       "    <tr>\n",
       "      <th>1</th>\n",
       "      <td>Feb</td>\n",
       "      <td>118</td>\n",
       "      <td>1995-02-01</td>\n",
       "      <td>1995</td>\n",
       "      <td>2</td>\n",
       "      <td>4</td>\n",
       "      <td>4.770685</td>\n",
       "      <td>0</td>\n",
       "      <td>0</td>\n",
       "      <td>0</td>\n",
       "      <td>1</td>\n",
       "      <td>0</td>\n",
       "      <td>0</td>\n",
       "      <td>0</td>\n",
       "      <td>0</td>\n",
       "      <td>0</td>\n",
       "      <td>0</td>\n",
       "      <td>0</td>\n",
       "      <td>0</td>\n",
       "    </tr>\n",
       "    <tr>\n",
       "      <th>2</th>\n",
       "      <td>Mar</td>\n",
       "      <td>132</td>\n",
       "      <td>1995-03-01</td>\n",
       "      <td>1995</td>\n",
       "      <td>3</td>\n",
       "      <td>9</td>\n",
       "      <td>4.882802</td>\n",
       "      <td>0</td>\n",
       "      <td>0</td>\n",
       "      <td>0</td>\n",
       "      <td>0</td>\n",
       "      <td>0</td>\n",
       "      <td>0</td>\n",
       "      <td>0</td>\n",
       "      <td>1</td>\n",
       "      <td>0</td>\n",
       "      <td>0</td>\n",
       "      <td>0</td>\n",
       "      <td>0</td>\n",
       "    </tr>\n",
       "    <tr>\n",
       "      <th>3</th>\n",
       "      <td>Apr</td>\n",
       "      <td>129</td>\n",
       "      <td>1995-04-01</td>\n",
       "      <td>1995</td>\n",
       "      <td>4</td>\n",
       "      <td>16</td>\n",
       "      <td>4.859812</td>\n",
       "      <td>1</td>\n",
       "      <td>0</td>\n",
       "      <td>0</td>\n",
       "      <td>0</td>\n",
       "      <td>0</td>\n",
       "      <td>0</td>\n",
       "      <td>0</td>\n",
       "      <td>0</td>\n",
       "      <td>0</td>\n",
       "      <td>0</td>\n",
       "      <td>0</td>\n",
       "      <td>0</td>\n",
       "    </tr>\n",
       "    <tr>\n",
       "      <th>4</th>\n",
       "      <td>May</td>\n",
       "      <td>121</td>\n",
       "      <td>1995-05-01</td>\n",
       "      <td>1995</td>\n",
       "      <td>5</td>\n",
       "      <td>25</td>\n",
       "      <td>4.795791</td>\n",
       "      <td>0</td>\n",
       "      <td>0</td>\n",
       "      <td>0</td>\n",
       "      <td>0</td>\n",
       "      <td>0</td>\n",
       "      <td>0</td>\n",
       "      <td>0</td>\n",
       "      <td>0</td>\n",
       "      <td>1</td>\n",
       "      <td>0</td>\n",
       "      <td>0</td>\n",
       "      <td>0</td>\n",
       "    </tr>\n",
       "    <tr>\n",
       "      <th>...</th>\n",
       "      <td>...</td>\n",
       "      <td>...</td>\n",
       "      <td>...</td>\n",
       "      <td>...</td>\n",
       "      <td>...</td>\n",
       "      <td>...</td>\n",
       "      <td>...</td>\n",
       "      <td>...</td>\n",
       "      <td>...</td>\n",
       "      <td>...</td>\n",
       "      <td>...</td>\n",
       "      <td>...</td>\n",
       "      <td>...</td>\n",
       "      <td>...</td>\n",
       "      <td>...</td>\n",
       "      <td>...</td>\n",
       "      <td>...</td>\n",
       "      <td>...</td>\n",
       "      <td>...</td>\n",
       "    </tr>\n",
       "    <tr>\n",
       "      <th>91</th>\n",
       "      <td>Aug</td>\n",
       "      <td>405</td>\n",
       "      <td>2002-08-01</td>\n",
       "      <td>2002</td>\n",
       "      <td>92</td>\n",
       "      <td>8464</td>\n",
       "      <td>6.003887</td>\n",
       "      <td>0</td>\n",
       "      <td>1</td>\n",
       "      <td>0</td>\n",
       "      <td>0</td>\n",
       "      <td>0</td>\n",
       "      <td>0</td>\n",
       "      <td>0</td>\n",
       "      <td>0</td>\n",
       "      <td>0</td>\n",
       "      <td>0</td>\n",
       "      <td>0</td>\n",
       "      <td>0</td>\n",
       "    </tr>\n",
       "    <tr>\n",
       "      <th>92</th>\n",
       "      <td>Sep</td>\n",
       "      <td>355</td>\n",
       "      <td>2002-09-01</td>\n",
       "      <td>2002</td>\n",
       "      <td>93</td>\n",
       "      <td>8649</td>\n",
       "      <td>5.872118</td>\n",
       "      <td>0</td>\n",
       "      <td>0</td>\n",
       "      <td>0</td>\n",
       "      <td>0</td>\n",
       "      <td>0</td>\n",
       "      <td>0</td>\n",
       "      <td>0</td>\n",
       "      <td>0</td>\n",
       "      <td>0</td>\n",
       "      <td>0</td>\n",
       "      <td>0</td>\n",
       "      <td>1</td>\n",
       "    </tr>\n",
       "    <tr>\n",
       "      <th>93</th>\n",
       "      <td>Oct</td>\n",
       "      <td>306</td>\n",
       "      <td>2002-10-01</td>\n",
       "      <td>2002</td>\n",
       "      <td>94</td>\n",
       "      <td>8836</td>\n",
       "      <td>5.723585</td>\n",
       "      <td>0</td>\n",
       "      <td>0</td>\n",
       "      <td>0</td>\n",
       "      <td>0</td>\n",
       "      <td>0</td>\n",
       "      <td>0</td>\n",
       "      <td>0</td>\n",
       "      <td>0</td>\n",
       "      <td>0</td>\n",
       "      <td>0</td>\n",
       "      <td>1</td>\n",
       "      <td>0</td>\n",
       "    </tr>\n",
       "    <tr>\n",
       "      <th>94</th>\n",
       "      <td>Nov</td>\n",
       "      <td>271</td>\n",
       "      <td>2002-11-01</td>\n",
       "      <td>2002</td>\n",
       "      <td>95</td>\n",
       "      <td>9025</td>\n",
       "      <td>5.602119</td>\n",
       "      <td>0</td>\n",
       "      <td>0</td>\n",
       "      <td>0</td>\n",
       "      <td>0</td>\n",
       "      <td>0</td>\n",
       "      <td>0</td>\n",
       "      <td>0</td>\n",
       "      <td>0</td>\n",
       "      <td>0</td>\n",
       "      <td>1</td>\n",
       "      <td>0</td>\n",
       "      <td>0</td>\n",
       "    </tr>\n",
       "    <tr>\n",
       "      <th>95</th>\n",
       "      <td>Dec</td>\n",
       "      <td>306</td>\n",
       "      <td>2002-12-01</td>\n",
       "      <td>2002</td>\n",
       "      <td>96</td>\n",
       "      <td>9216</td>\n",
       "      <td>5.723585</td>\n",
       "      <td>0</td>\n",
       "      <td>0</td>\n",
       "      <td>1</td>\n",
       "      <td>0</td>\n",
       "      <td>0</td>\n",
       "      <td>0</td>\n",
       "      <td>0</td>\n",
       "      <td>0</td>\n",
       "      <td>0</td>\n",
       "      <td>0</td>\n",
       "      <td>0</td>\n",
       "      <td>0</td>\n",
       "    </tr>\n",
       "  </tbody>\n",
       "</table>\n",
       "<p>96 rows × 19 columns</p>\n",
       "</div>"
      ],
      "text/plain": [
       "   Month  Passengers       Date  Year   t    t2     log_p  Apr  Aug  Dec  Feb  \\\n",
       "0    Jan         112 1995-01-01  1995   1     1  4.718499    0    0    0    0   \n",
       "1    Feb         118 1995-02-01  1995   2     4  4.770685    0    0    0    1   \n",
       "2    Mar         132 1995-03-01  1995   3     9  4.882802    0    0    0    0   \n",
       "3    Apr         129 1995-04-01  1995   4    16  4.859812    1    0    0    0   \n",
       "4    May         121 1995-05-01  1995   5    25  4.795791    0    0    0    0   \n",
       "..   ...         ...        ...   ...  ..   ...       ...  ...  ...  ...  ...   \n",
       "91   Aug         405 2002-08-01  2002  92  8464  6.003887    0    1    0    0   \n",
       "92   Sep         355 2002-09-01  2002  93  8649  5.872118    0    0    0    0   \n",
       "93   Oct         306 2002-10-01  2002  94  8836  5.723585    0    0    0    0   \n",
       "94   Nov         271 2002-11-01  2002  95  9025  5.602119    0    0    0    0   \n",
       "95   Dec         306 2002-12-01  2002  96  9216  5.723585    0    0    1    0   \n",
       "\n",
       "    Jan  Jul  Jun  Mar  May  Nov  Oct  Sep  \n",
       "0     1    0    0    0    0    0    0    0  \n",
       "1     0    0    0    0    0    0    0    0  \n",
       "2     0    0    0    1    0    0    0    0  \n",
       "3     0    0    0    0    0    0    0    0  \n",
       "4     0    0    0    0    1    0    0    0  \n",
       "..  ...  ...  ...  ...  ...  ...  ...  ...  \n",
       "91    0    0    0    0    0    0    0    0  \n",
       "92    0    0    0    0    0    0    0    1  \n",
       "93    0    0    0    0    0    0    1    0  \n",
       "94    0    0    0    0    0    1    0    0  \n",
       "95    0    0    0    0    0    0    0    0  \n",
       "\n",
       "[96 rows x 19 columns]"
      ]
     },
     "execution_count": 60,
     "metadata": {},
     "output_type": "execute_result"
    }
   ],
   "source": [
    "df=[data,d1]\n",
    "d2=pd.concat(df,axis=1,join='inner')\n",
    "d2"
   ]
  },
  {
   "cell_type": "markdown",
   "id": "8f85c4d6",
   "metadata": {},
   "source": [
    "## Creation of different models and computing their RMSE(Root Mean Square Error) for best Forecasting Model:-"
   ]
  },
  {
   "cell_type": "code",
   "execution_count": 61,
   "id": "46cee100",
   "metadata": {},
   "outputs": [],
   "source": [
    "train=d2.head(80)\n",
    "test=d2.tail(20)"
   ]
  },
  {
   "cell_type": "code",
   "execution_count": 62,
   "id": "19ef0bd2",
   "metadata": {},
   "outputs": [
    {
     "data": {
      "text/plain": [
       "49.93726139770773"
      ]
     },
     "execution_count": 62,
     "metadata": {},
     "output_type": "execute_result"
    }
   ],
   "source": [
    "### Linear Model:-\n",
    "lin_mod=smf.ols('Passengers~t',data=train).fit()\n",
    "pred_lin=pd.Series(lin_mod.predict(pd.DataFrame(test['t'])))\n",
    "rmse_lin=np.sqrt(np.mean((np.array(test['Passengers'])-np.array(pred_lin))**2))\n",
    "rmse_lin"
   ]
  },
  {
   "cell_type": "code",
   "execution_count": 63,
   "id": "99896ecf",
   "metadata": {},
   "outputs": [
    {
     "data": {
      "text/plain": [
       "45.163117094168136"
      ]
     },
     "execution_count": 63,
     "metadata": {},
     "output_type": "execute_result"
    }
   ],
   "source": [
    "### Exponential Model:-\n",
    "exp=smf.ols('log_p~t',data=train).fit()\n",
    "pred_exp=pd.Series(exp.predict(pd.DataFrame(test['t'])))\n",
    "rmse_exp=np.sqrt(np.mean((np.array(test['Passengers'])-np.array(np.exp(pred_exp)))**2))\n",
    "rmse_exp"
   ]
  },
  {
   "cell_type": "code",
   "execution_count": 65,
   "id": "4046ba25",
   "metadata": {},
   "outputs": [
    {
     "data": {
      "text/plain": [
       "44.96343329837638"
      ]
     },
     "execution_count": 65,
     "metadata": {},
     "output_type": "execute_result"
    }
   ],
   "source": [
    "### Quadratic Model:-\n",
    "quad=smf.ols('Passengers~t+t2',data=train).fit()\n",
    "pred_quad=pd.Series(quad.predict(test[['t','t2']]))\n",
    "rmse_quad=np.sqrt(np.mean((np.array(test['Passengers'])-np.array(pred_quad))**2))\n",
    "rmse_quad"
   ]
  },
  {
   "cell_type": "code",
   "execution_count": 67,
   "id": "5112790b",
   "metadata": {},
   "outputs": [
    {
     "data": {
      "text/plain": [
       "124.69166211462185"
      ]
     },
     "execution_count": 67,
     "metadata": {},
     "output_type": "execute_result"
    }
   ],
   "source": [
    "### Additive Seasonality Model:-\n",
    "add_sea=smf.ols('Passengers~Jan+Feb+Mar+Apr+May+Jun+Jul+Aug+Sep+Oct+Nov+Dec',data=train).fit()\n",
    "pred_add_sea=pd.Series(add_sea.predict(test[['Jan','Feb','Mar','Apr','May','Jun','Jul','Aug','Sep','Oct','Nov','Dec']]))\n",
    "rmse_add_sea=np.sqrt(np.mean((np.array(test['Passengers'])-np.array(pred_add_sea))**2))\n",
    "rmse_add_sea"
   ]
  },
  {
   "cell_type": "code",
   "execution_count": 70,
   "id": "10e82981",
   "metadata": {},
   "outputs": [
    {
     "data": {
      "text/plain": [
       "24.240007330314903"
      ]
     },
     "execution_count": 70,
     "metadata": {},
     "output_type": "execute_result"
    }
   ],
   "source": [
    "### Additive Seasonality Quadratic Model:-\n",
    "add_sea_quad=smf.ols('Passengers~t+t2+Jan+Feb+Mar+Apr+May+Jun+Jul+Aug+Sep+Oct+Nov+Dec',data=train).fit()\n",
    "pred_add_sea_quad=pd.Series(add_sea_quad.predict(test[['t','t2','Jan','Feb','Mar','Apr','May','Jun','Jul','Aug','Sep','Oct','Nov','Dec']]))\n",
    "rmse_add_sea_quad=np.sqrt(np.mean((np.array(test['Passengers'])-np.array(pred_add_sea_quad))**2))\n",
    "rmse_add_sea_quad"
   ]
  },
  {
   "cell_type": "code",
   "execution_count": 72,
   "id": "5720a73f",
   "metadata": {},
   "outputs": [
    {
     "data": {
      "text/plain": [
       "131.21970625472596"
      ]
     },
     "execution_count": 72,
     "metadata": {},
     "output_type": "execute_result"
    }
   ],
   "source": [
    "### Multiplicative Seasonality Model:-\n",
    "mul_sea=smf.ols('log_p~Jan+Jan+Feb+Mar+Apr+May+Jun+Jul+Aug+Sep+Oct+Nov+Dec',data=train).fit()\n",
    "pred_mult_sea=pd.Series(mul_sea.predict(test[['Jan','Feb','Mar','Apr','May','Jun','Jul','Aug','Sep','Oct','Nov','Dec']]))\n",
    "rmse_mult_sea=np.sqrt(np.mean((np.array(test['Passengers'])-np.array(np.exp(pred_mult_sea)))**2))\n",
    "rmse_mult_sea"
   ]
  },
  {
   "cell_type": "code",
   "execution_count": 73,
   "id": "c4710159",
   "metadata": {},
   "outputs": [
    {
     "data": {
      "text/plain": [
       "9.922645280278358"
      ]
     },
     "execution_count": 73,
     "metadata": {},
     "output_type": "execute_result"
    }
   ],
   "source": [
    "### Multiplicative Additive Seasonality Model:-\n",
    "mul_add_sea=smf.ols('log_p~t+Jan+Feb+Mar+Apr+May+Jun+Jul+Aug+Sep+Oct+Nov+Dec',data=train).fit()\n",
    "pred_mul_add_sea=pd.Series(mul_add_sea.predict(test[['t','Jan','Feb','Mar','Apr','May','Jun','Jul','Aug','Sep','Oct','Nov','Dec']]))\n",
    "rmse_mult_add_sea=np.sqrt(np.mean((np.array(test['Passengers'])-np.array(np.exp(pred_mul_add_sea)))**2))\n",
    "rmse_mult_add_sea"
   ]
  },
  {
   "cell_type": "code",
   "execution_count": 74,
   "id": "c23172ca",
   "metadata": {},
   "outputs": [
    {
     "data": {
      "text/plain": [
       "22.216153863683246"
      ]
     },
     "execution_count": 74,
     "metadata": {},
     "output_type": "execute_result"
    }
   ],
   "source": [
    "### Multiplicative Quadratic Seasonality Model:-\n",
    "mul_quad_sea=smf.ols('log_p~t+t2+Jan+Feb+Mar+Apr+May+Jun+Jul+Aug+Sep+Oct+Nov+Dec',data=train).fit()\n",
    "pred_mul_quad_sea=pd.Series(mul_quad_sea.predict(test[['t','t2','Jan','Feb','Mar','Apr','May','Jun','Jul','Aug','Sep','Oct','Nov','Dec']]))\n",
    "rmse_mul_quad_sea=np.sqrt(np.mean((np.array(test['Passengers'])-np.array(np.exp(pred_mul_quad_sea)))**2))\n",
    "rmse_mul_quad_sea"
   ]
  },
  {
   "cell_type": "code",
   "execution_count": 75,
   "id": "cf25b649",
   "metadata": {},
   "outputs": [
    {
     "data": {
      "text/html": [
       "<div>\n",
       "<style scoped>\n",
       "    .dataframe tbody tr th:only-of-type {\n",
       "        vertical-align: middle;\n",
       "    }\n",
       "\n",
       "    .dataframe tbody tr th {\n",
       "        vertical-align: top;\n",
       "    }\n",
       "\n",
       "    .dataframe thead th {\n",
       "        text-align: right;\n",
       "    }\n",
       "</style>\n",
       "<table border=\"1\" class=\"dataframe\">\n",
       "  <thead>\n",
       "    <tr style=\"text-align: right;\">\n",
       "      <th></th>\n",
       "      <th>Model</th>\n",
       "      <th>RMSE_Values</th>\n",
       "    </tr>\n",
       "  </thead>\n",
       "  <tbody>\n",
       "    <tr>\n",
       "      <th>6</th>\n",
       "      <td>rmse_mult_add_sea</td>\n",
       "      <td>9.922645</td>\n",
       "    </tr>\n",
       "    <tr>\n",
       "      <th>7</th>\n",
       "      <td>rmse_mul_quad_sea</td>\n",
       "      <td>22.216154</td>\n",
       "    </tr>\n",
       "    <tr>\n",
       "      <th>4</th>\n",
       "      <td>rmse_add_sea_quad</td>\n",
       "      <td>24.240007</td>\n",
       "    </tr>\n",
       "    <tr>\n",
       "      <th>2</th>\n",
       "      <td>rmse_quad</td>\n",
       "      <td>44.963433</td>\n",
       "    </tr>\n",
       "    <tr>\n",
       "      <th>1</th>\n",
       "      <td>rmse_exp</td>\n",
       "      <td>45.163117</td>\n",
       "    </tr>\n",
       "    <tr>\n",
       "      <th>0</th>\n",
       "      <td>rmse_lin</td>\n",
       "      <td>49.937261</td>\n",
       "    </tr>\n",
       "    <tr>\n",
       "      <th>3</th>\n",
       "      <td>rmse_add_sea</td>\n",
       "      <td>124.691662</td>\n",
       "    </tr>\n",
       "    <tr>\n",
       "      <th>5</th>\n",
       "      <td>rmse_mult_sea</td>\n",
       "      <td>131.219706</td>\n",
       "    </tr>\n",
       "  </tbody>\n",
       "</table>\n",
       "</div>"
      ],
      "text/plain": [
       "               Model  RMSE_Values\n",
       "6  rmse_mult_add_sea     9.922645\n",
       "7  rmse_mul_quad_sea    22.216154\n",
       "4  rmse_add_sea_quad    24.240007\n",
       "2          rmse_quad    44.963433\n",
       "1           rmse_exp    45.163117\n",
       "0           rmse_lin    49.937261\n",
       "3       rmse_add_sea   124.691662\n",
       "5      rmse_mult_sea   131.219706"
      ]
     },
     "execution_count": 75,
     "metadata": {},
     "output_type": "execute_result"
    }
   ],
   "source": [
    "### Comparing the results:-\n",
    "d={'Model':pd.Series(['rmse_lin','rmse_exp','rmse_quad','rmse_add_sea','rmse_add_sea_quad','rmse_mult_sea','rmse_mult_add_sea','rmse_mul_quad_sea']),'RMSE_Values':pd.Series([rmse_lin,rmse_exp,rmse_quad,rmse_add_sea,rmse_add_sea_quad,rmse_mult_sea,rmse_mult_add_sea,rmse_mul_quad_sea])}\n",
    "table_rmse=pd.DataFrame(d)\n",
    "table_rmse.sort_values(['RMSE_Values'])"
   ]
  },
  {
   "cell_type": "markdown",
   "id": "cbb82c20",
   "metadata": {},
   "source": [
    "## Final Forecasting:-"
   ]
  },
  {
   "cell_type": "code",
   "execution_count": 77,
   "id": "d05dafbb",
   "metadata": {},
   "outputs": [],
   "source": [
    "### Building the Model on the entire data set:-\n",
    "model_full=smf.ols('log_p~t+Jan+Feb+Mar+Apr+May+Jun+Jul+Aug+Sep+Oct+Nov+Dec',data=d2).fit()"
   ]
  },
  {
   "cell_type": "code",
   "execution_count": 78,
   "id": "289a9e03",
   "metadata": {},
   "outputs": [
    {
     "data": {
      "text/plain": [
       "0     4.692963\n",
       "1     4.703487\n",
       "2     4.846666\n",
       "3     4.813814\n",
       "4     4.807291\n",
       "        ...   \n",
       "91    5.978339\n",
       "92    5.868100\n",
       "93    5.737989\n",
       "94    5.607538\n",
       "95    5.744085\n",
       "Length: 96, dtype: float64"
      ]
     },
     "execution_count": 78,
     "metadata": {},
     "output_type": "execute_result"
    }
   ],
   "source": [
    "forecasted_passengers=pd.Series(model_full.predict(d2[['t','Jan','Feb','Mar','Apr','May','Jun','Jul','Aug','Sep','Oct','Nov','Dec']]))\n",
    "forecasted_passengers"
   ]
  },
  {
   "cell_type": "code",
   "execution_count": 79,
   "id": "a2b54ab7",
   "metadata": {},
   "outputs": [
    {
     "data": {
      "text/plain": [
       "8.933548467712574"
      ]
     },
     "execution_count": 79,
     "metadata": {},
     "output_type": "execute_result"
    }
   ],
   "source": [
    "RMSE=np.sqrt(np.mean((np.array(data['Passengers'])-np.array(np.exp(forecasted_passengers)))**2))\n",
    "RMSE"
   ]
  },
  {
   "cell_type": "code",
   "execution_count": 80,
   "id": "624fd06c",
   "metadata": {},
   "outputs": [
    {
     "data": {
      "text/html": [
       "<div>\n",
       "<style scoped>\n",
       "    .dataframe tbody tr th:only-of-type {\n",
       "        vertical-align: middle;\n",
       "    }\n",
       "\n",
       "    .dataframe tbody tr th {\n",
       "        vertical-align: top;\n",
       "    }\n",
       "\n",
       "    .dataframe thead th {\n",
       "        text-align: right;\n",
       "    }\n",
       "</style>\n",
       "<table border=\"1\" class=\"dataframe\">\n",
       "  <thead>\n",
       "    <tr style=\"text-align: right;\">\n",
       "      <th></th>\n",
       "      <th>Month</th>\n",
       "      <th>Passengers</th>\n",
       "      <th>Date</th>\n",
       "      <th>Year</th>\n",
       "      <th>t</th>\n",
       "      <th>t2</th>\n",
       "      <th>log_p</th>\n",
       "      <th>Forecasted</th>\n",
       "    </tr>\n",
       "  </thead>\n",
       "  <tbody>\n",
       "    <tr>\n",
       "      <th>0</th>\n",
       "      <td>Jan</td>\n",
       "      <td>112</td>\n",
       "      <td>1995-01-01</td>\n",
       "      <td>1995</td>\n",
       "      <td>1</td>\n",
       "      <td>1</td>\n",
       "      <td>4.718499</td>\n",
       "      <td>109.176148</td>\n",
       "    </tr>\n",
       "    <tr>\n",
       "      <th>1</th>\n",
       "      <td>Feb</td>\n",
       "      <td>118</td>\n",
       "      <td>1995-02-01</td>\n",
       "      <td>1995</td>\n",
       "      <td>2</td>\n",
       "      <td>4</td>\n",
       "      <td>4.770685</td>\n",
       "      <td>110.331245</td>\n",
       "    </tr>\n",
       "    <tr>\n",
       "      <th>2</th>\n",
       "      <td>Mar</td>\n",
       "      <td>132</td>\n",
       "      <td>1995-03-01</td>\n",
       "      <td>1995</td>\n",
       "      <td>3</td>\n",
       "      <td>9</td>\n",
       "      <td>4.882802</td>\n",
       "      <td>127.315234</td>\n",
       "    </tr>\n",
       "    <tr>\n",
       "      <th>3</th>\n",
       "      <td>Apr</td>\n",
       "      <td>129</td>\n",
       "      <td>1995-04-01</td>\n",
       "      <td>1995</td>\n",
       "      <td>4</td>\n",
       "      <td>16</td>\n",
       "      <td>4.859812</td>\n",
       "      <td>123.200587</td>\n",
       "    </tr>\n",
       "    <tr>\n",
       "      <th>4</th>\n",
       "      <td>May</td>\n",
       "      <td>121</td>\n",
       "      <td>1995-05-01</td>\n",
       "      <td>1995</td>\n",
       "      <td>5</td>\n",
       "      <td>25</td>\n",
       "      <td>4.795791</td>\n",
       "      <td>122.399578</td>\n",
       "    </tr>\n",
       "    <tr>\n",
       "      <th>...</th>\n",
       "      <td>...</td>\n",
       "      <td>...</td>\n",
       "      <td>...</td>\n",
       "      <td>...</td>\n",
       "      <td>...</td>\n",
       "      <td>...</td>\n",
       "      <td>...</td>\n",
       "      <td>...</td>\n",
       "    </tr>\n",
       "    <tr>\n",
       "      <th>91</th>\n",
       "      <td>Aug</td>\n",
       "      <td>405</td>\n",
       "      <td>2002-08-01</td>\n",
       "      <td>2002</td>\n",
       "      <td>92</td>\n",
       "      <td>8464</td>\n",
       "      <td>6.003887</td>\n",
       "      <td>394.784174</td>\n",
       "    </tr>\n",
       "    <tr>\n",
       "      <th>92</th>\n",
       "      <td>Sep</td>\n",
       "      <td>355</td>\n",
       "      <td>2002-09-01</td>\n",
       "      <td>2002</td>\n",
       "      <td>93</td>\n",
       "      <td>8649</td>\n",
       "      <td>5.872118</td>\n",
       "      <td>353.576683</td>\n",
       "    </tr>\n",
       "    <tr>\n",
       "      <th>93</th>\n",
       "      <td>Oct</td>\n",
       "      <td>306</td>\n",
       "      <td>2002-10-01</td>\n",
       "      <td>2002</td>\n",
       "      <td>94</td>\n",
       "      <td>8836</td>\n",
       "      <td>5.723585</td>\n",
       "      <td>310.439400</td>\n",
       "    </tr>\n",
       "    <tr>\n",
       "      <th>94</th>\n",
       "      <td>Nov</td>\n",
       "      <td>271</td>\n",
       "      <td>2002-11-01</td>\n",
       "      <td>2002</td>\n",
       "      <td>95</td>\n",
       "      <td>9025</td>\n",
       "      <td>5.602119</td>\n",
       "      <td>272.472660</td>\n",
       "    </tr>\n",
       "    <tr>\n",
       "      <th>95</th>\n",
       "      <td>Dec</td>\n",
       "      <td>306</td>\n",
       "      <td>2002-12-01</td>\n",
       "      <td>2002</td>\n",
       "      <td>96</td>\n",
       "      <td>9216</td>\n",
       "      <td>5.723585</td>\n",
       "      <td>312.337712</td>\n",
       "    </tr>\n",
       "  </tbody>\n",
       "</table>\n",
       "<p>96 rows × 8 columns</p>\n",
       "</div>"
      ],
      "text/plain": [
       "   Month  Passengers       Date  Year   t    t2     log_p  Forecasted\n",
       "0    Jan         112 1995-01-01  1995   1     1  4.718499  109.176148\n",
       "1    Feb         118 1995-02-01  1995   2     4  4.770685  110.331245\n",
       "2    Mar         132 1995-03-01  1995   3     9  4.882802  127.315234\n",
       "3    Apr         129 1995-04-01  1995   4    16  4.859812  123.200587\n",
       "4    May         121 1995-05-01  1995   5    25  4.795791  122.399578\n",
       "..   ...         ...        ...   ...  ..   ...       ...         ...\n",
       "91   Aug         405 2002-08-01  2002  92  8464  6.003887  394.784174\n",
       "92   Sep         355 2002-09-01  2002  93  8649  5.872118  353.576683\n",
       "93   Oct         306 2002-10-01  2002  94  8836  5.723585  310.439400\n",
       "94   Nov         271 2002-11-01  2002  95  9025  5.602119  272.472660\n",
       "95   Dec         306 2002-12-01  2002  96  9216  5.723585  312.337712\n",
       "\n",
       "[96 rows x 8 columns]"
      ]
     },
     "execution_count": 80,
     "metadata": {},
     "output_type": "execute_result"
    }
   ],
   "source": [
    "data['Forecasted']=np.exp(forecasted_passengers)\n",
    "data"
   ]
  },
  {
   "cell_type": "code",
   "execution_count": 86,
   "id": "12b5087a",
   "metadata": {},
   "outputs": [
    {
     "data": {
      "image/png": "[encoded data removed]",
      "text/plain": [
       "<Figure size 720x504 with 1 Axes>"
      ]
     },
     "metadata": {
      "needs_background": "light"
     },
     "output_type": "display_data"
    }
   ],
   "source": [
    "plt.figure(figsize=(10,7))\n",
    "plt.plot(data.t,data.Forecasted,color='green',label='Forecasted no. of Passengers by Model:-')\n",
    "plt.plot(data.t,data.Passengers,color='red',label='No. of Passengers')\n",
    "plt.legend()\n",
    "plt.show()"
   ]
  },
  {
   "cell_type": "code",
   "execution_count": null,
   "id": "d740ed46",
   "metadata": {},
   "outputs": [],
   "source": []
  }
 ],
 "metadata": {
  "kernelspec": {
   "display_name": "Python 3",
   "language": "python",
   "name": "python3"
  },
  "language_info": {
   "codemirror_mode": {
    "name": "ipython",
    "version": 3
   },
   "file_extension": ".py",
   "mimetype": "text/x-python",
   "name": "python",
   "nbconvert_exporter": "python",
   "pygments_lexer": "ipython3",
   "version": "3.8.8"
  }
 },
 "nbformat": 4,
 "nbformat_minor": 5
}
